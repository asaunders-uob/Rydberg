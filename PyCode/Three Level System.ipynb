{
 "cells": [
  {
   "cell_type": "markdown",
   "id": "d04d9bfb-1acd-4db4-a13f-9e2e5d0197ca",
   "metadata": {},
   "source": [
    "# Investigating a Three Level System"
   ]
  },
  {
   "cell_type": "code",
   "execution_count": null,
   "id": "addf4b79-6a01-4516-a336-99c760b23146",
   "metadata": {},
   "outputs": [],
   "source": []
  }
 ],
 "metadata": {
  "kernelspec": {
   "display_name": "Python 3 (ipykernel)",
   "language": "python",
   "name": "python3"
  },
  "language_info": {
   "codemirror_mode": {
    "name": "ipython",
    "version": 3
   },
   "file_extension": ".py",
   "mimetype": "text/x-python",
   "name": "python",
   "nbconvert_exporter": "python",
   "pygments_lexer": "ipython3",
   "version": "3.8.18"
  }
 },
 "nbformat": 4,
 "nbformat_minor": 5
}
