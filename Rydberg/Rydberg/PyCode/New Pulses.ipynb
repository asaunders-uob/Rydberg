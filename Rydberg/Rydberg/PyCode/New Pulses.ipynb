{
 "cells": [
  {
   "cell_type": "markdown",
   "id": "ee2b9c6f-1160-4103-a796-2ade166bc583",
   "metadata": {},
   "source": [
    "# New Pulses\n",
    "## Setting up Rydebrg atom"
   ]
  },
  {
   "cell_type": "code",
   "execution_count": null,
   "id": "a6eaa89b-65cc-4f2b-858d-40edb625bc80",
   "metadata": {},
   "outputs": [],
   "source": [
    "omegas = np.linspace(0,1E6,100000)\n",
    "detuning_eg = omegas - \n",
    "psi0 = (basis(3,0)*2+basis(3, 1)).unit()\n",
    "c_ops = [np.sqrt(gamma_b)*(qutip.three_level_atom.three_level_ops()[3]),np.sqrt(gamma_c)*qutip.three_level_atom.three_level_ops()[4]]\n",
    "e_ops = [np.sqrt(2)*jmat(1,'x'),np.sqrt(2)*jmat(1,'y'),2*jmat(1,'z')-1]\n",
    "real = []\n",
    "imag=[]\n",
    "chi = []\n",
    "\n",
    "for detune in detuning_eg:\n",
    "    H = 0.5*Qobj(np.array([[0,rabi_probe,0],[rabi_probe,-2*detune,rabi_couple],[0,rabi_couple,-2*(detune-detune_couple)]]))\n",
    "    # H2 = 0.5*Qobj(np.array([[0,rabi_probe,0],[rabi_probe,-2*detune,1E-6],[0,1E-6,-2*(detune-detune_couple)]]))\n",
    "    result = steadystate(H, c_ops)\n",
    "    chi.append(result[0,1])\n",
    "    real.append(result[0,1].real)\n",
    "    imag.append(result[0,1].imag)\n",
    "\n",
    "\n",
    "frequencies = detuning_eg+omega_eg\n",
    "\n",
    "plt.plot(frequencies, real, label = 'Real')\n",
    "plt.plot(frequencies, imag, label = 'Imaginary')\n",
    "plt.legend()\n",
    "plt.xlabel('omega')\n",
    "plt.ylabel('$\\chi/\\hat{\\chi}$')\n",
    "\n"
   ]
  }
 ],
 "metadata": {
  "kernelspec": {
   "display_name": "Python 3 (ipykernel)",
   "language": "python",
   "name": "python3"
  },
  "language_info": {
   "codemirror_mode": {
    "name": "ipython",
    "version": 3
   },
   "file_extension": ".py",
   "mimetype": "text/x-python",
   "name": "python",
   "nbconvert_exporter": "python",
   "pygments_lexer": "ipython3",
   "version": "3.8.18"
  }
 },
 "nbformat": 4,
 "nbformat_minor": 5
}
