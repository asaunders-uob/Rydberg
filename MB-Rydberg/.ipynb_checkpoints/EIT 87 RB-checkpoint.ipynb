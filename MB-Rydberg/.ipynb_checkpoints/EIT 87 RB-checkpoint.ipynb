{
 "cells": [
  {
   "cell_type": "markdown",
   "id": "a8659105-6a76-4698-ab00-95c878172b17",
   "metadata": {},
   "source": [
    "# Compute Retrieval for our Rydberg atom\n",
    "We are using Rb87 and interested in states \n",
    "\n",
    "42D5/2\n",
    "\n",
    "5P3/2\n",
    "\n",
    "\n",
    "5S1/2\n",
    "\n",
    "\n",
    "\n",
    "Rabi Frequencies and decay constants are computed in [my molecule](../PyCode/Rydberg_Atom_details.ipyb)"
   ]
  },
  {
   "cell_type": "code",
   "execution_count": null,
   "id": "da05095d-8cb2-49b4-be0f-f65d90aa85ae",
   "metadata": {},
   "outputs": [],
   "source": []
  }
 ],
 "metadata": {
  "kernelspec": {
   "display_name": "Python 3 (ipykernel)",
   "language": "python",
   "name": "python3"
  },
  "language_info": {
   "codemirror_mode": {
    "name": "ipython",
    "version": 3
   },
   "file_extension": ".py",
   "mimetype": "text/x-python",
   "name": "python",
   "nbconvert_exporter": "python",
   "pygments_lexer": "ipython3",
   "version": "3.8.18"
  }
 },
 "nbformat": 4,
 "nbformat_minor": 5
}
