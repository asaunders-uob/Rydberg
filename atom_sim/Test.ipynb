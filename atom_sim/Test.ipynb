{
 "cells": [
  {
   "cell_type": "code",
   "execution_count": 1,
   "id": "387fe7c9-3fff-47c8-8c81-9682c0a3ac8e",
   "metadata": {},
   "outputs": [],
   "source": [
    "from base import *\n",
    "import numpy as np\n",
    "from arc import *\n",
    "# import matplotlib\n",
    "import matplotlib.pyplot as plt\n",
    "from matplotlib import animation\n",
    "# matplotlib.use('TkAgg')\n",
    "\n",
    "sim = Atom_sim(Rubidium87(),1,5,100E-9,1000)"
   ]
  },
  {
   "cell_type": "code",
   "execution_count": 2,
   "id": "01cb7a6f-2706-4a0b-9893-e7c6cba1fd12",
   "metadata": {},
   "outputs": [
    {
     "name": "stderr",
     "output_type": "stream",
     "text": [
      "100%|████████████████████████████████████████████████████████████████████████████████| 999/999 [00:19<00:00, 51.55it/s]\n"
     ]
    }
   ],
   "source": [
    "sol = sim.solve(1E-2,1E-5)"
   ]
  },
  {
   "cell_type": "code",
   "execution_count": null,
   "id": "e9962b17-34dd-4b2c-b39e-42b9fdfacc4e",
   "metadata": {},
   "outputs": [],
   "source": [
    "fig, ax = plt.subplots()\n",
    "%matplotlib qt\n",
    "\n",
    "\n",
    "scat = ax.scatter(sim.data_points[-1][:,0],sim.data_points[-1][:,1],marker='.')\n",
    "\n",
    "# scat.set_offsets(np.transpose((sim.data_points[0][:,0],sim.data_points[0][:,1])))\n",
    "\n",
    "def animate(n):\n",
    "    ax.clear()\n",
    "    ax.set_xlim(-1E-4,1E-4)\n",
    "    ax.set_ylim(-1E-4,1E-4)\n",
    "    ax.scatter(sim.data_points[n][:,0], sim.data_points[n][:,1],marker = '.')\n",
    "\n",
    "ani = animation.FuncAnimation(fig, animate, frames=len(sim.data_points))\n",
    "\n",
    "writer = animation.PillowWriter(fps=10,\n",
    "                                metadata=dict(artist='Me'),\n",
    "                                bitrate=1800)\n",
    "ani.save('1000-omega.gif', writer=writer)\n",
    "\n",
    "plt.show()"
   ]
  },
  {
   "cell_type": "code",
   "execution_count": null,
   "id": "1a3fc89a-285d-4ede-9b41-a766f912c256",
   "metadata": {},
   "outputs": [],
   "source": [
    "%matplotlib inline\n",
    "sim.plot_2d(10)"
   ]
  },
  {
   "cell_type": "code",
   "execution_count": null,
   "id": "2e5587ac-2b0c-4039-9c97-995cac752298",
   "metadata": {},
   "outputs": [],
   "source": [
    "sim.update_accel()"
   ]
  },
  {
   "cell_type": "code",
   "execution_count": null,
   "id": "83f36d8c-59b9-4496-bb45-5ca6ab8de7eb",
   "metadata": {},
   "outputs": [],
   "source": [
    "np.save('np/2000-omega',sim.data_points)"
   ]
  }
 ],
 "metadata": {
  "kernelspec": {
   "display_name": "Python 3 (ipykernel)",
   "language": "python",
   "name": "python3"
  },
  "language_info": {
   "codemirror_mode": {
    "name": "ipython",
    "version": 3
   },
   "file_extension": ".py",
   "mimetype": "text/x-python",
   "name": "python",
   "nbconvert_exporter": "python",
   "pygments_lexer": "ipython3",
   "version": "3.8.18"
  }
 },
 "nbformat": 4,
 "nbformat_minor": 5
}
