{
 "cells": [
  {
   "cell_type": "code",
   "execution_count": null,
   "metadata": {},
   "outputs": [],
   "source": [
    "# Imports for plotting\n",
    "\n",
    "import matplotlib.pyplot as plt\n",
    "%matplotlib inline\n",
    "import seaborn as sns\n",
    "import numpy as np\n",
    "sns.set_style('darkgrid')"
   ]
  },
  {
   "cell_type": "markdown",
   "metadata": {},
   "source": [
    "# Three-Level Atoms"
   ]
  },
  {
   "cell_type": "markdown",
   "metadata": {},
   "source": [
    "The simplest extension of the two-level model is to add a second frequency component near-resonant with a third atomic level. This may seem incremental but in fact produces a variety of interesting and useful phenomena, due to the presence of quantum superposition dark states.\n",
    "\n",
    "There are three available configurations of three-level atoms according to the transitions chosen for coupling. We'll introduce each configuration in turn and show how to define this structure in MaxwellBloch."
   ]
  },
  {
   "cell_type": "markdown",
   "metadata": {},
   "source": [
    "## Ladder (Ξ) Configuration\n",
    "\n",
    "In the $\\Xi$ configuration, $|0\\rangle$ is coupled to $|1\\rangle$ as in the two-level atom with a field we'll now call the _probe_ field, with a Rabi frequency envelope $\\Omega_p(t)$. A second field (which we'll call the _coupling_ field) couples the transition from this intermediate state to a higher state $|2\\rangle$  with an envelope $\\Omega_c(t)$. The transition $|0\\rangle$ to $|2\\rangle$ is taken to be dipole forbidden.\n",
    "\n",
    "```\n",
    "____ |2>\n",
    " |\n",
    " | Ω_c   \n",
    " |\n",
    "____ |1>\n",
    " |\n",
    " | Ω_p\n",
    " |\n",
    "____ |0>\n",
    "```\n",
    "\n",
    "Let's define this configuration in MaxwellBloch JSON. First, we'll turn off the coupling field so that although the atomic level is there, no population is driven to it. We do this by setting `\"rabi_freq\": 0` in the coupling field. Note that now there are two fields in the `fields` list, with the probe `\"coupled_levels\": [[0,1]]` and the coupling  `\"coupled_levels\": [[1,2]]`. Also, importantly, `\"num_states\": 3`. We've also added two decays, with the upper level taken to be a long-lived state that decays to the intermediate state."
   ]
  },
  {
   "cell_type": "code",
   "execution_count": null,
   "metadata": {},
   "outputs": [],
   "source": [
    "mbs_json = \"\"\"\n",
    "{\n",
    "  \"atom\": {\n",
    "    \"decays\": [\n",
    "      { \"channels\": [[0,1]], \n",
    "        \"rate\": 1.0\n",
    "      },\n",
    "      { \"channels\": [[1,2]], \n",
    "        \"rate\": 1.0e-3\n",
    "      }\n",
    "    ],\n",
    "    \"fields\": [\n",
    "      {\n",
    "        \"coupled_levels\": [[0, 1]],\n",
    "        \"label\": \"probe\",\n",
    "        \"rabi_freq\": 1.0e-3,\n",
    "        \"rabi_freq_t_args\": \n",
    "          {\n",
    "             \"ampl\": 1.0,\n",
    "             \"centre\": 0.0,\n",
    "             \"fwhm\": 1.0\n",
    "          },\n",
    "        \"rabi_freq_t_func\": \"gaussian\"\n",
    "      },\n",
    "      {\n",
    "        \"coupled_levels\": [[1, 2]],\n",
    "        \"label\": \"coupling\",\n",
    "        \"rabi_freq\": 0.0,\n",
    "        \"rabi_freq_t_args\": \n",
    "        {\n",
    "          \"ampl\": 1.0,\n",
    "          \"on\": -2.0, \n",
    "          \"off\": 10.0\n",
    "          },\n",
    "        \"rabi_freq_t_func\": \"square\"\n",
    "      }\n",
    "    ],\n",
    "    \"num_states\": 3\n",
    "  },\n",
    "  \"t_min\": -2.0,\n",
    "  \"t_max\": 10.0,\n",
    "  \"t_steps\": 120,\n",
    "  \"z_min\": -0.2,\n",
    "  \"z_max\": 1.2,\n",
    "  \"z_steps\": 140,\n",
    "  \"z_steps_inner\": 1,\n",
    "  \"interaction_strengths\": [10.0, 10.0]\n",
    "}\n",
    "\"\"\""
   ]
  },
  {
   "cell_type": "code",
   "execution_count": null,
   "metadata": {},
   "outputs": [],
   "source": [
    "from maxwellbloch import mb_solve"
   ]
  },
  {
   "cell_type": "code",
   "execution_count": null,
   "metadata": {},
   "outputs": [],
   "source": [
    "mbs = mb_solve.MBSolve().from_json_str(mbs_json)\n",
    "Omegas_zt, states_zt = mbs.mbsolve()"
   ]
  },
  {
   "cell_type": "code",
   "execution_count": null,
   "metadata": {},
   "outputs": [],
   "source": [
    "fig, ax = plt.subplots(figsize=(16, 5))\n",
    "cmap_range = np.linspace(0.0, 1.0e-3, 11)\n",
    "cf = ax.contourf(mbs.tlist, mbs.zlist, \n",
    "                 np.abs(mbs.Omegas_zt[0]/(2*np.pi)), \n",
    "                 cmap_range, cmap=plt.cm.Blues)\n",
    "ax.set_title('Rabi Frequency ($\\mathrm{MHz} / 2\\pi $), Speed-of-Light Reference Frame')\n",
    "ax.set_xlabel('Time ($\\mathrm{\\mu s}$)')\n",
    "ax.set_ylabel('Distance ($\\mathrm{cm}$)')\n",
    "for y in [0.0, 1.0]:\n",
    "    ax.axhline(y, c='grey', lw=1.0, ls='dotted')\n",
    "plt.colorbar(cf);"
   ]
  },
  {
   "cell_type": "markdown",
   "metadata": {},
   "source": [
    "As we've turned off the coupling field, we see that the system behaves just like the two-level atom. The interaction strength is quite high, so the energy of the pulse is quicky absorbed by the medium.\n",
    "\n",
    "### Electromagnetically Induced Transparency (EIT)\n",
    "\n",
    "Next we'll take exactly the same system and set the coupling field `rabi_freq: 2.0`. The coupling field has a `square` profile covering the timespan of the simulation, which means it's continuously on."
   ]
  },
  {
   "cell_type": "code",
   "execution_count": null,
   "metadata": {},
   "outputs": [],
   "source": [
    "mbs_json = \"\"\"\n",
    "{\n",
    "  \"atom\": {\n",
    "    \"decays\": [\n",
    "      { \"channels\": [[0,1]], \n",
    "        \"rate\": 1.0\n",
    "      },\n",
    "      { \"channels\": [[1,2]], \n",
    "        \"rate\": 1.0e-3\n",
    "      }\n",
    "    ],\n",
    "    \"fields\": [\n",
    "      {\n",
    "        \"coupled_levels\": [[0, 1]],\n",
    "        \"label\": \"probe\",\n",
    "        \"rabi_freq\": 1.0e-3,\n",
    "        \"rabi_freq_t_args\": \n",
    "          {\n",
    "             \"ampl\": 1.0,\n",
    "             \"centre\": 0.0,\n",
    "             \"fwhm\": 1.0\n",
    "          },\n",
    "        \"rabi_freq_t_func\": \"gaussian\"\n",
    "      },\n",
    "      {\n",
    "        \"coupled_levels\": [[1, 2]],\n",
    "        \"label\": \"coupling\",\n",
    "        \"rabi_freq\": 2.0,\n",
    "        \"rabi_freq_t_args\": \n",
    "        {\n",
    "          \"ampl\": 1.0,\n",
    "          \"on\": -2.0, \n",
    "          \"off\": 10.0\n",
    "          },\n",
    "        \"rabi_freq_t_func\": \"square\"\n",
    "      }\n",
    "    ],\n",
    "    \"num_states\": 3\n",
    "  },\n",
    "  \"t_min\": -2.0,\n",
    "  \"t_max\": 10.0,\n",
    "  \"t_steps\": 120,\n",
    "  \"z_min\": -0.2,\n",
    "  \"z_max\": 1.2,\n",
    "  \"z_steps\": 140,\n",
    "  \"z_steps_inner\": 1,\n",
    "  \"interaction_strengths\": [10.0, 10.0]\n",
    "}\n",
    "\"\"\""
   ]
  },
  {
   "cell_type": "code",
   "execution_count": null,
   "metadata": {},
   "outputs": [],
   "source": [
    "mbs = mb_solve.MBSolve().from_json_str(mbs_json)\n",
    "Omegas_zt, states_zt = mbs.mbsolve()"
   ]
  },
  {
   "cell_type": "code",
   "execution_count": null,
   "metadata": {},
   "outputs": [],
   "source": [
    "fig, ax = plt.subplots(figsize=(16, 5))\n",
    "cmap_range = np.linspace(0.0, 1.0e-3, 11)\n",
    "cf = ax.contourf(mbs.tlist, mbs.zlist, \n",
    "                 np.abs(mbs.Omegas_zt[0]/(2*np.pi)), \n",
    "                 cmap_range, cmap=plt.cm.Blues)\n",
    "ax.set_title('Rabi Frequency ($\\mathrm{MHz} / 2\\pi $), Speed-of-Light Reference Frame')\n",
    "ax.set_xlabel('Time ($\\mathrm{\\mu s}$)')\n",
    "ax.set_ylabel('Distance ($\\mathrm{cm}$)')\n",
    "for y in [0.0, 1.0]:\n",
    "    ax.axhline(y, c='grey', lw=1.0, ls='dotted')\n",
    "plt.colorbar(cf);"
   ]
  },
  {
   "cell_type": "markdown",
   "metadata": {},
   "source": [
    "With the strong coupling field applied, we see that the pulse travels through the medium with much less absorption on resonance. This is the phenomena known as [Electromangetically Induced Transparency][eit] (EIT). The introduction of the strong coupling field leads to an transparent spectral window which allows this transmission of the probe pulse through the medium which it would ordinarily find to be opaque.\n",
    "\n",
    "Notice that the pulse group velocity is slowed such that the envelope travels than the speed of light.\n",
    "\n",
    "[eit]: https://en.wikipedia.org/wiki/Electromagnetically_induced_transparency"
   ]
  },
  {
   "cell_type": "markdown",
   "metadata": {},
   "source": [
    "## Lambda (Λ)\n",
    "\n",
    "In the $\\Lambda$ (lambda) configuration, the atom has two lower states $|0\\rangle$ and $|2\\rangle$, and\n",
    "a single excited state $|1\\rangle$ which is coupled to both lower states. These could for example represent a ground state hyperfine doublet. Coupling of the two lower states is taken to be dipole forbidden.\n",
    "\n",
    "```\n",
    "        ____ |1>\n",
    "        /  \\\n",
    "  Ω_p  /    \\  Ω_c\n",
    "      /      \\ \n",
    "|0> ____     ____ |2>\n",
    "```"
   ]
  },
  {
   "cell_type": "markdown",
   "metadata": {},
   "source": [
    "We define the lambda atom in almost the same way as the ladder atom, but this time note that $|2\\rangle$ is below $|1\\rangle$. The only difference this makes is that we have to set `detuning_positive: false`. Also note the reordering of the decay channels. So far all of the fields have been on resonance, but if we were adding detuning from resonance (by setting `detuning` nonzero for a field), the sign is dependendent on this ordering of the states. "
   ]
  },
  {
   "cell_type": "code",
   "execution_count": null,
   "metadata": {},
   "outputs": [],
   "source": [
    "mbs_json = \"\"\"\n",
    "{\n",
    "  \"atom\": {\n",
    "    \"decays\": [\n",
    "      { \"channels\": [[0,1]], \n",
    "        \"rate\": 1.0\n",
    "      },\n",
    "      { \"channels\": [[2,1]], \n",
    "        \"rate\": 1.0e-3\n",
    "      }\n",
    "    ],\n",
    "    \"fields\": [\n",
    "      {\n",
    "        \"coupled_levels\": [[0, 1]],\n",
    "        \"label\": \"probe\",\n",
    "        \"rabi_freq\": 1.0e-3,\n",
    "        \"rabi_freq_t_args\": \n",
    "          {\n",
    "             \"ampl\": 1.0,\n",
    "             \"centre\": 0.0,\n",
    "             \"fwhm\": 1.0\n",
    "          },\n",
    "        \"rabi_freq_t_func\": \"gaussian\"\n",
    "      },\n",
    "      {\n",
    "        \"coupled_levels\": [[1, 2]],\n",
    "        \"label\": \"coupling\",\n",
    "        \"detuning_positive\": false,\n",
    "        \"rabi_freq\": 2.0,\n",
    "        \"rabi_freq_t_args\": \n",
    "        {\n",
    "          \"ampl\": 1.0,\n",
    "          \"on\": -2.0, \n",
    "          \"off\": 10.0\n",
    "          },\n",
    "        \"rabi_freq_t_func\": \"square\"\n",
    "      }\n",
    "    ],\n",
    "    \"num_states\": 3\n",
    "  },\n",
    "  \"t_min\": -2.0,\n",
    "  \"t_max\": 10.0,\n",
    "  \"t_steps\": 120,\n",
    "  \"z_min\": -0.2,\n",
    "  \"z_max\": 1.2,\n",
    "  \"z_steps\": 140,\n",
    "  \"z_steps_inner\": 1,\n",
    "  \"interaction_strengths\": [10.0, 10.0]\n",
    "}\n",
    "\"\"\""
   ]
  },
  {
   "cell_type": "code",
   "execution_count": null,
   "metadata": {},
   "outputs": [],
   "source": [
    "mbs = mb_solve.MBSolve().from_json_str(mbs_json)\n",
    "Omegas_zt, states_zt = mbs.mbsolve()"
   ]
  },
  {
   "cell_type": "code",
   "execution_count": null,
   "metadata": {},
   "outputs": [],
   "source": [
    "fig, ax = plt.subplots(figsize=(16, 5))\n",
    "cmap_range = np.linspace(0.0, 1.0e-3, 11)\n",
    "cf = ax.contourf(mbs.tlist, mbs.zlist, \n",
    "                 np.abs(mbs.Omegas_zt[0]/(2*np.pi)), \n",
    "                 cmap_range, cmap=plt.cm.Blues)\n",
    "ax.set_title('Rabi Frequency ($\\mathrm{MHz} / 2\\pi $), Speed-of-Light Reference Frame')\n",
    "ax.set_xlabel('Time ($\\mathrm{\\mu s}$)')\n",
    "ax.set_ylabel('Distance ($\\mathrm{cm}$)')\n",
    "for y in [0.0, 1.0]:\n",
    "    ax.axhline(y, c='grey', lw=1.0, ls='dotted')\n",
    "plt.colorbar(cf);"
   ]
  },
  {
   "cell_type": "markdown",
   "metadata": {},
   "source": [
    "Here we see that EIT can also occur in the lambda system. In such a system we can even [store and retrieve][sr] the pulse envelope.\n",
    "\n",
    "[sr]: https://github.com/tommyogden/notebooks-maxwellbloch/blob/master/examples/mb-solve-lambda-weak-pulse-cloud-atoms-some-coupling-store.ipynb"
   ]
  },
  {
   "cell_type": "markdown",
   "metadata": {},
   "source": [
    "## Vee (V)"
   ]
  },
  {
   "cell_type": "markdown",
   "metadata": {},
   "source": [
    "Finally, in the $V$ configuration, the atom has two excited states $|1\\rangle$ and $|2\\rangle$, and a single ground state level $|0\\rangle$ which is coupled to both excited states. We do not allow transitions between the two excited states.\n",
    "\n",
    "```\n",
    "|1> ____    ____ |2>\n",
    "      \\      /\n",
    "  Ω_p  \\    /  Ω_c\n",
    "        \\  /\n",
    "        ____ |0>\n",
    "```\n",
    "\n",
    "We'll put in a $\\sqrt{2} \\pi$ pulse into both transitions."
   ]
  },
  {
   "cell_type": "code",
   "execution_count": null,
   "metadata": {},
   "outputs": [],
   "source": [
    "mbs_json = \"\"\"\n",
    "{\n",
    "  \"atom\": {\n",
    "    \"fields\": [\n",
    "      {\n",
    "        \"coupled_levels\": [[0, 1]],\n",
    "        \"label\": \"probe\",\n",
    "        \"rabi_freq_t_args\": \n",
    "          {\n",
    "             \"n_pi\":  1.4142136,\n",
    "             \"centre\": 0.0,\n",
    "             \"fwhm\": 1.0\n",
    "          },\n",
    "        \"rabi_freq_t_func\": \"sech\"\n",
    "      },\n",
    "      {\n",
    "        \"coupled_levels\": [[0, 2]],\n",
    "        \"label\": \"coupling\",\n",
    "        \"rabi_freq_t_args\": \n",
    "          {\n",
    "             \"n_pi\": 1.4142135,\n",
    "             \"centre\": 0.0,\n",
    "             \"fwhm\": 1.0\n",
    "          },\n",
    "        \"rabi_freq_t_func\": \"sech\"\n",
    "      }\n",
    "    ],\n",
    "    \"num_states\": 3\n",
    "  },\n",
    "  \"t_min\": -2.0,\n",
    "  \"t_max\": 10.0,\n",
    "  \"t_steps\": 120,\n",
    "  \"z_min\": -0.2,\n",
    "  \"z_max\": 1.2,\n",
    "  \"z_steps\": 70,\n",
    "  \"z_steps_inner\": 1,\n",
    "  \"interaction_strengths\": [10.0, 10.0]\n",
    "}\n",
    "\"\"\""
   ]
  },
  {
   "cell_type": "code",
   "execution_count": null,
   "metadata": {},
   "outputs": [],
   "source": [
    "mbs = mb_solve.MBSolve().from_json_str(mbs_json)\n",
    "Omegas_zt, states_zt = mbs.mbsolve()"
   ]
  },
  {
   "cell_type": "code",
   "execution_count": null,
   "metadata": {},
   "outputs": [],
   "source": [
    "fig, ax = plt.subplots(2, 1, figsize=(16, 9))\n",
    "cmap_range = np.linspace(0.0, 1.0, 11)\n",
    "cf_p = ax[0].contourf(mbs.tlist, mbs.zlist, \n",
    "                 np.abs(mbs.Omegas_zt[0]/(2*np.pi)), \n",
    "                 cmap_range,\n",
    "                 cmap=plt.cm.Blues)\n",
    "plt.colorbar(cf_p, ax=ax[0]);\n",
    "cf_c = ax[1].contourf(mbs.tlist, mbs.zlist, \n",
    "                 np.abs(mbs.Omegas_zt[1]/(2*np.pi)), \n",
    "                 cmap_range, \n",
    "                 cmap=plt.cm.Greens)\n",
    "plt.colorbar(cf_c, ax=ax[1]);\n",
    "ax[0].set_title('Rabi Frequency ($\\mathrm{MHz} / 2\\pi $), Speed-of-Light Reference Frame')\n",
    "ax[1].set_xlabel('Time ($\\mathrm{\\mu s}$)')\n",
    "for i in ax:\n",
    "    for y in [0.0, 1.0]:\n",
    "        i.axhline(y, c='grey', lw=1.0, ls='dotted')\n",
    "    i.set_ylabel('Distance ($\\mathrm{cm}$)')"
   ]
  },
  {
   "cell_type": "markdown",
   "metadata": {},
   "source": [
    "Despite the individual pulse areas not being sufficient to form a soliton, the two fields together propogate a simulton pulse."
   ]
  }
 ],
 "metadata": {
  "kernelspec": {
   "display_name": "Python 3",
   "language": "python",
   "name": "python3"
  },
  "language_info": {
   "codemirror_mode": {
    "name": "ipython",
    "version": 3
   },
   "file_extension": ".py",
   "mimetype": "text/x-python",
   "name": "python",
   "nbconvert_exporter": "python",
   "pygments_lexer": "ipython3",
   "version": "3.7.3"
  }
 },
 "nbformat": 4,
 "nbformat_minor": 2
}
